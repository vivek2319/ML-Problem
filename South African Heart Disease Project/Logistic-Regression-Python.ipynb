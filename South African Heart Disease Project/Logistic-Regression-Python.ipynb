{
 "cells": [
  {
   "cell_type": "code",
   "execution_count": 1,
   "metadata": {
    "collapsed": true
   },
   "outputs": [],
   "source": [
    "#Logistic Regression on South African Dataset"
   ]
  },
  {
   "cell_type": "code",
   "execution_count": 99,
   "metadata": {},
   "outputs": [],
   "source": [
    "#Load the packages \n",
    "import numpy as np\n",
    "import pandas as pd\n",
    "import requests\n",
    "import io\n",
    "from scipy import stats\n",
    "import matplotlib.pyplot as plt\n",
    "from sklearn.linear_model import LogisticRegression\n",
    "from sklearn.neighbors import KNeighborsClassifier\n",
    "from sklearn import model_selection\n",
    "from sklearn import metrics\n",
    "from sklearn.metrics import accuracy_score, f1_score, precision_score, recall_score, classification_report, confusion_matrix\n",
    "import seaborn as sns\n",
    "sns.set_style(\"whitegrid\")\n",
    "from mlxtend.plotting import plot_learning_curves\n",
    "%matplotlib inline\n",
    "\n"
   ]
  },
  {
   "cell_type": "code",
   "execution_count": 74,
   "metadata": {
    "collapsed": true
   },
   "outputs": [],
   "source": [
    "url=\"http://math.mercyhurst.edu/~sousley/STAT_139/data/sahdd.csv\"\n",
    "c=pd.read_csv(url)"
   ]
  },
  {
   "cell_type": "code",
   "execution_count": 75,
   "metadata": {},
   "outputs": [
    {
     "data": {
      "text/html": [
       "<div>\n",
       "<style>\n",
       "    .dataframe thead tr:only-child th {\n",
       "        text-align: right;\n",
       "    }\n",
       "\n",
       "    .dataframe thead th {\n",
       "        text-align: left;\n",
       "    }\n",
       "\n",
       "    .dataframe tbody tr th {\n",
       "        vertical-align: top;\n",
       "    }\n",
       "</style>\n",
       "<table border=\"1\" class=\"dataframe\">\n",
       "  <thead>\n",
       "    <tr style=\"text-align: right;\">\n",
       "      <th></th>\n",
       "      <th>row</th>\n",
       "      <th>sbp</th>\n",
       "      <th>tobacco</th>\n",
       "      <th>ldl</th>\n",
       "      <th>adiposity</th>\n",
       "      <th>famhist</th>\n",
       "      <th>typea</th>\n",
       "      <th>obesity</th>\n",
       "      <th>alcohol</th>\n",
       "      <th>age</th>\n",
       "      <th>chd</th>\n",
       "    </tr>\n",
       "  </thead>\n",
       "  <tbody>\n",
       "    <tr>\n",
       "      <th>0</th>\n",
       "      <td>1</td>\n",
       "      <td>160</td>\n",
       "      <td>12.00</td>\n",
       "      <td>5.73</td>\n",
       "      <td>23.11</td>\n",
       "      <td>Present</td>\n",
       "      <td>49</td>\n",
       "      <td>25.30</td>\n",
       "      <td>97.20</td>\n",
       "      <td>52</td>\n",
       "      <td>1</td>\n",
       "    </tr>\n",
       "    <tr>\n",
       "      <th>1</th>\n",
       "      <td>2</td>\n",
       "      <td>144</td>\n",
       "      <td>0.01</td>\n",
       "      <td>4.41</td>\n",
       "      <td>28.61</td>\n",
       "      <td>Absent</td>\n",
       "      <td>55</td>\n",
       "      <td>28.87</td>\n",
       "      <td>2.06</td>\n",
       "      <td>63</td>\n",
       "      <td>1</td>\n",
       "    </tr>\n",
       "    <tr>\n",
       "      <th>2</th>\n",
       "      <td>3</td>\n",
       "      <td>118</td>\n",
       "      <td>0.08</td>\n",
       "      <td>3.48</td>\n",
       "      <td>32.28</td>\n",
       "      <td>Present</td>\n",
       "      <td>52</td>\n",
       "      <td>29.14</td>\n",
       "      <td>3.81</td>\n",
       "      <td>46</td>\n",
       "      <td>0</td>\n",
       "    </tr>\n",
       "    <tr>\n",
       "      <th>3</th>\n",
       "      <td>4</td>\n",
       "      <td>170</td>\n",
       "      <td>7.50</td>\n",
       "      <td>6.41</td>\n",
       "      <td>38.03</td>\n",
       "      <td>Present</td>\n",
       "      <td>51</td>\n",
       "      <td>31.99</td>\n",
       "      <td>24.26</td>\n",
       "      <td>58</td>\n",
       "      <td>1</td>\n",
       "    </tr>\n",
       "    <tr>\n",
       "      <th>4</th>\n",
       "      <td>5</td>\n",
       "      <td>134</td>\n",
       "      <td>13.60</td>\n",
       "      <td>3.50</td>\n",
       "      <td>27.78</td>\n",
       "      <td>Present</td>\n",
       "      <td>60</td>\n",
       "      <td>25.99</td>\n",
       "      <td>57.34</td>\n",
       "      <td>49</td>\n",
       "      <td>1</td>\n",
       "    </tr>\n",
       "  </tbody>\n",
       "</table>\n",
       "</div>"
      ],
      "text/plain": [
       "   row  sbp  tobacco   ldl  adiposity  famhist  typea  obesity  alcohol  age  \\\n",
       "0    1  160    12.00  5.73      23.11  Present     49    25.30    97.20   52   \n",
       "1    2  144     0.01  4.41      28.61   Absent     55    28.87     2.06   63   \n",
       "2    3  118     0.08  3.48      32.28  Present     52    29.14     3.81   46   \n",
       "3    4  170     7.50  6.41      38.03  Present     51    31.99    24.26   58   \n",
       "4    5  134    13.60  3.50      27.78  Present     60    25.99    57.34   49   \n",
       "\n",
       "   chd  \n",
       "0    1  \n",
       "1    1  \n",
       "2    0  \n",
       "3    1  \n",
       "4    1  "
      ]
     },
     "execution_count": 75,
     "metadata": {},
     "output_type": "execute_result"
    }
   ],
   "source": [
    "c.head()"
   ]
  },
  {
   "cell_type": "code",
   "execution_count": 76,
   "metadata": {
    "collapsed": true
   },
   "outputs": [],
   "source": [
    "#Converts Present and Absent into numbers.\n",
    "c['famhist'] = c['famhist'].apply(lambda x:0 if x==\"Absent\" else 1)"
   ]
  },
  {
   "cell_type": "code",
   "execution_count": 77,
   "metadata": {},
   "outputs": [
    {
     "data": {
      "text/plain": [
       "0    1\n",
       "1    0\n",
       "2    1\n",
       "3    1\n",
       "4    1\n",
       "Name: famhist, dtype: int64"
      ]
     },
     "execution_count": 77,
     "metadata": {},
     "output_type": "execute_result"
    }
   ],
   "source": [
    "c['famhist'].head()"
   ]
  },
  {
   "cell_type": "code",
   "execution_count": 78,
   "metadata": {},
   "outputs": [
    {
     "data": {
      "text/plain": [
       "row          231.935065\n",
       "sbp          138.326840\n",
       "tobacco        3.635649\n",
       "ldl            4.740325\n",
       "adiposity     25.406732\n",
       "famhist        0.415584\n",
       "typea         53.103896\n",
       "obesity       26.044113\n",
       "alcohol       17.044394\n",
       "age           42.816017\n",
       "chd            0.346320\n",
       "dtype: float64"
      ]
     },
     "execution_count": 78,
     "metadata": {},
     "output_type": "execute_result"
    }
   ],
   "source": [
    "c.mean()"
   ]
  },
  {
   "cell_type": "code",
   "execution_count": 79,
   "metadata": {},
   "outputs": [
    {
     "data": {
      "text/plain": [
       "<matplotlib.axes._subplots.AxesSubplot at 0x1f23be7dcf8>"
      ]
     },
     "execution_count": 79,
     "metadata": {},
     "output_type": "execute_result"
    },
    {
     "data": {
      "image/png": "[encoded data removed]",
      "text/plain": [
       "<matplotlib.figure.Figure at 0x1f23c48c908>"
      ]
     },
     "metadata": {},
     "output_type": "display_data"
    }
   ],
   "source": [
    "\n",
    "sns.boxplot(data=c)"
   ]
  },
  {
   "cell_type": "code",
   "execution_count": 80,
   "metadata": {
    "collapsed": true
   },
   "outputs": [],
   "source": [
    "def reject_outliers(sr, iq_range=0.5):\n",
    "    pcnt = (1 - iq_range) / 2\n",
    "    qlow, median, qhigh = sr.dropna().quantile([pcnt, 0.50, 1-pcnt])\n",
    "    iqr = qhigh - qlow\n",
    "    return sr[ (sr - median).abs() <= iqr]"
   ]
  },
  {
   "cell_type": "code",
   "execution_count": 81,
   "metadata": {
    "collapsed": true
   },
   "outputs": [],
   "source": [
    "newsbp = reject_outliers(c['sbp'])"
   ]
  },
  {
   "cell_type": "code",
   "execution_count": 82,
   "metadata": {
    "collapsed": true
   },
   "outputs": [],
   "source": [
    "newtobacco = reject_outliers(c['tobacco'])"
   ]
  },
  {
   "cell_type": "code",
   "execution_count": 83,
   "metadata": {
    "collapsed": true
   },
   "outputs": [],
   "source": [
    "newldl = reject_outliers(c['ldl'])"
   ]
  },
  {
   "cell_type": "code",
   "execution_count": 84,
   "metadata": {
    "collapsed": true
   },
   "outputs": [],
   "source": [
    "newadiposity = reject_outliers(c['adiposity'])"
   ]
  },
  {
   "cell_type": "code",
   "execution_count": 85,
   "metadata": {
    "collapsed": true
   },
   "outputs": [],
   "source": [
    "newtypea= reject_outliers(c['typea'])"
   ]
  },
  {
   "cell_type": "code",
   "execution_count": 86,
   "metadata": {
    "collapsed": true
   },
   "outputs": [],
   "source": [
    "newobesity = reject_outliers(c['obesity'])"
   ]
  },
  {
   "cell_type": "code",
   "execution_count": 87,
   "metadata": {
    "collapsed": true
   },
   "outputs": [],
   "source": [
    "newalcohol = reject_outliers(c['alcohol'])"
   ]
  },
  {
   "cell_type": "code",
   "execution_count": 88,
   "metadata": {
    "collapsed": true
   },
   "outputs": [],
   "source": [
    "row = c['row']\n",
    "famhist=c['famhist']\n",
    "age=c['age']\n",
    "chd=c['chd']\n",
    "# You will notice each column has varying length because each col had diff no of outliers.\n",
    "#Okay so first convert them to list and then to dataframe\n",
    "\n",
    "d=[row, newsbp, newtobacco, newldl, newadiposity, famhist, newtypea, newobesity, newalcohol, age, chd]\n",
    "newc = pd.DataFrame(d)"
   ]
  },
  {
   "cell_type": "code",
   "execution_count": 89,
   "metadata": {},
   "outputs": [
    {
     "data": {
      "text/html": [
       "<div>\n",
       "<style>\n",
       "    .dataframe thead tr:only-child th {\n",
       "        text-align: right;\n",
       "    }\n",
       "\n",
       "    .dataframe thead th {\n",
       "        text-align: left;\n",
       "    }\n",
       "\n",
       "    .dataframe tbody tr th {\n",
       "        vertical-align: top;\n",
       "    }\n",
       "</style>\n",
       "<table border=\"1\" class=\"dataframe\">\n",
       "  <thead>\n",
       "    <tr style=\"text-align: right;\">\n",
       "      <th></th>\n",
       "      <th>0</th>\n",
       "      <th>1</th>\n",
       "      <th>2</th>\n",
       "      <th>3</th>\n",
       "      <th>4</th>\n",
       "      <th>5</th>\n",
       "      <th>6</th>\n",
       "      <th>7</th>\n",
       "      <th>8</th>\n",
       "      <th>9</th>\n",
       "      <th>...</th>\n",
       "      <th>452</th>\n",
       "      <th>453</th>\n",
       "      <th>454</th>\n",
       "      <th>455</th>\n",
       "      <th>456</th>\n",
       "      <th>457</th>\n",
       "      <th>458</th>\n",
       "      <th>459</th>\n",
       "      <th>460</th>\n",
       "      <th>461</th>\n",
       "    </tr>\n",
       "  </thead>\n",
       "  <tbody>\n",
       "    <tr>\n",
       "      <th>row</th>\n",
       "      <td>1.00</td>\n",
       "      <td>2.00</td>\n",
       "      <td>3.00</td>\n",
       "      <td>4.00</td>\n",
       "      <td>5.00</td>\n",
       "      <td>6.00</td>\n",
       "      <td>7.00</td>\n",
       "      <td>8.00</td>\n",
       "      <td>9.00</td>\n",
       "      <td>10.00</td>\n",
       "      <td>...</td>\n",
       "      <td>454.00</td>\n",
       "      <td>455.0</td>\n",
       "      <td>456.00</td>\n",
       "      <td>457.00</td>\n",
       "      <td>458.00</td>\n",
       "      <td>459.00</td>\n",
       "      <td>460.00</td>\n",
       "      <td>461.00</td>\n",
       "      <td>462.00</td>\n",
       "      <td>463.00</td>\n",
       "    </tr>\n",
       "    <tr>\n",
       "      <th>sbp</th>\n",
       "      <td>NaN</td>\n",
       "      <td>144.00</td>\n",
       "      <td>118.00</td>\n",
       "      <td>NaN</td>\n",
       "      <td>134.00</td>\n",
       "      <td>132.00</td>\n",
       "      <td>142.00</td>\n",
       "      <td>114.00</td>\n",
       "      <td>114.00</td>\n",
       "      <td>132.00</td>\n",
       "      <td>...</td>\n",
       "      <td>154.00</td>\n",
       "      <td>124.0</td>\n",
       "      <td>146.00</td>\n",
       "      <td>128.00</td>\n",
       "      <td>NaN</td>\n",
       "      <td>NaN</td>\n",
       "      <td>NaN</td>\n",
       "      <td>NaN</td>\n",
       "      <td>118.00</td>\n",
       "      <td>132.00</td>\n",
       "    </tr>\n",
       "    <tr>\n",
       "      <th>tobacco</th>\n",
       "      <td>NaN</td>\n",
       "      <td>0.01</td>\n",
       "      <td>0.08</td>\n",
       "      <td>NaN</td>\n",
       "      <td>NaN</td>\n",
       "      <td>6.20</td>\n",
       "      <td>4.05</td>\n",
       "      <td>4.08</td>\n",
       "      <td>0.00</td>\n",
       "      <td>0.00</td>\n",
       "      <td>...</td>\n",
       "      <td>5.53</td>\n",
       "      <td>1.6</td>\n",
       "      <td>0.64</td>\n",
       "      <td>2.24</td>\n",
       "      <td>0.40</td>\n",
       "      <td>0.40</td>\n",
       "      <td>4.20</td>\n",
       "      <td>3.00</td>\n",
       "      <td>5.40</td>\n",
       "      <td>0.00</td>\n",
       "    </tr>\n",
       "    <tr>\n",
       "      <th>ldl</th>\n",
       "      <td>5.73</td>\n",
       "      <td>4.41</td>\n",
       "      <td>3.48</td>\n",
       "      <td>6.41</td>\n",
       "      <td>3.50</td>\n",
       "      <td>6.47</td>\n",
       "      <td>3.38</td>\n",
       "      <td>4.59</td>\n",
       "      <td>3.83</td>\n",
       "      <td>5.80</td>\n",
       "      <td>...</td>\n",
       "      <td>3.20</td>\n",
       "      <td>NaN</td>\n",
       "      <td>4.82</td>\n",
       "      <td>2.83</td>\n",
       "      <td>4.11</td>\n",
       "      <td>5.98</td>\n",
       "      <td>4.41</td>\n",
       "      <td>NaN</td>\n",
       "      <td>NaN</td>\n",
       "      <td>4.82</td>\n",
       "    </tr>\n",
       "    <tr>\n",
       "      <th>adiposity</th>\n",
       "      <td>23.11</td>\n",
       "      <td>28.61</td>\n",
       "      <td>32.28</td>\n",
       "      <td>NaN</td>\n",
       "      <td>27.78</td>\n",
       "      <td>36.21</td>\n",
       "      <td>16.20</td>\n",
       "      <td>NaN</td>\n",
       "      <td>19.40</td>\n",
       "      <td>30.96</td>\n",
       "      <td>...</td>\n",
       "      <td>28.81</td>\n",
       "      <td>NaN</td>\n",
       "      <td>28.02</td>\n",
       "      <td>26.48</td>\n",
       "      <td>NaN</td>\n",
       "      <td>31.72</td>\n",
       "      <td>32.10</td>\n",
       "      <td>15.23</td>\n",
       "      <td>30.79</td>\n",
       "      <td>33.41</td>\n",
       "    </tr>\n",
       "  </tbody>\n",
       "</table>\n",
       "<p>5 rows × 462 columns</p>\n",
       "</div>"
      ],
      "text/plain": [
       "             0       1       2     3       4       5       6       7    \\\n",
       "row         1.00    2.00    3.00  4.00    5.00    6.00    7.00    8.00   \n",
       "sbp          NaN  144.00  118.00   NaN  134.00  132.00  142.00  114.00   \n",
       "tobacco      NaN    0.01    0.08   NaN     NaN    6.20    4.05    4.08   \n",
       "ldl         5.73    4.41    3.48  6.41    3.50    6.47    3.38    4.59   \n",
       "adiposity  23.11   28.61   32.28   NaN   27.78   36.21   16.20     NaN   \n",
       "\n",
       "              8       9     ...       452    453     454     455     456  \\\n",
       "row          9.00   10.00   ...    454.00  455.0  456.00  457.00  458.00   \n",
       "sbp        114.00  132.00   ...    154.00  124.0  146.00  128.00     NaN   \n",
       "tobacco      0.00    0.00   ...      5.53    1.6    0.64    2.24    0.40   \n",
       "ldl          3.83    5.80   ...      3.20    NaN    4.82    2.83    4.11   \n",
       "adiposity   19.40   30.96   ...     28.81    NaN   28.02   26.48     NaN   \n",
       "\n",
       "              457     458     459     460     461  \n",
       "row        459.00  460.00  461.00  462.00  463.00  \n",
       "sbp           NaN     NaN     NaN  118.00  132.00  \n",
       "tobacco      0.40    4.20    3.00    5.40    0.00  \n",
       "ldl          5.98    4.41     NaN     NaN    4.82  \n",
       "adiposity   31.72   32.10   15.23   30.79   33.41  \n",
       "\n",
       "[5 rows x 462 columns]"
      ]
     },
     "execution_count": 89,
     "metadata": {},
     "output_type": "execute_result"
    }
   ],
   "source": [
    "newc.head()\n",
    "#Replace the NaN with col means "
   ]
  },
  {
   "cell_type": "code",
   "execution_count": 90,
   "metadata": {},
   "outputs": [
    {
     "data": {
      "text/html": [
       "<div>\n",
       "<style>\n",
       "    .dataframe thead tr:only-child th {\n",
       "        text-align: right;\n",
       "    }\n",
       "\n",
       "    .dataframe thead th {\n",
       "        text-align: left;\n",
       "    }\n",
       "\n",
       "    .dataframe tbody tr th {\n",
       "        vertical-align: top;\n",
       "    }\n",
       "</style>\n",
       "<table border=\"1\" class=\"dataframe\">\n",
       "  <thead>\n",
       "    <tr style=\"text-align: right;\">\n",
       "      <th></th>\n",
       "      <th>0</th>\n",
       "      <th>1</th>\n",
       "      <th>2</th>\n",
       "      <th>3</th>\n",
       "      <th>4</th>\n",
       "      <th>5</th>\n",
       "      <th>6</th>\n",
       "      <th>7</th>\n",
       "      <th>8</th>\n",
       "      <th>9</th>\n",
       "      <th>...</th>\n",
       "      <th>452</th>\n",
       "      <th>453</th>\n",
       "      <th>454</th>\n",
       "      <th>455</th>\n",
       "      <th>456</th>\n",
       "      <th>457</th>\n",
       "      <th>458</th>\n",
       "      <th>459</th>\n",
       "      <th>460</th>\n",
       "      <th>461</th>\n",
       "    </tr>\n",
       "  </thead>\n",
       "  <tbody>\n",
       "    <tr>\n",
       "      <th>row</th>\n",
       "      <td>1.0000</td>\n",
       "      <td>2.00</td>\n",
       "      <td>3.00</td>\n",
       "      <td>4.00</td>\n",
       "      <td>5.000000</td>\n",
       "      <td>6.00</td>\n",
       "      <td>7.00</td>\n",
       "      <td>8.00</td>\n",
       "      <td>9.00</td>\n",
       "      <td>10.000</td>\n",
       "      <td>...</td>\n",
       "      <td>454.000</td>\n",
       "      <td>455.000000</td>\n",
       "      <td>456.00</td>\n",
       "      <td>457.000</td>\n",
       "      <td>458.00000</td>\n",
       "      <td>459.000</td>\n",
       "      <td>460.000</td>\n",
       "      <td>461.00000</td>\n",
       "      <td>462.000</td>\n",
       "      <td>463.000</td>\n",
       "    </tr>\n",
       "    <tr>\n",
       "      <th>sbp</th>\n",
       "      <td>19.7675</td>\n",
       "      <td>144.00</td>\n",
       "      <td>118.00</td>\n",
       "      <td>20.81</td>\n",
       "      <td>134.000000</td>\n",
       "      <td>132.00</td>\n",
       "      <td>142.00</td>\n",
       "      <td>114.00</td>\n",
       "      <td>114.00</td>\n",
       "      <td>132.000</td>\n",
       "      <td>...</td>\n",
       "      <td>154.000</td>\n",
       "      <td>124.000000</td>\n",
       "      <td>146.00</td>\n",
       "      <td>128.000</td>\n",
       "      <td>72.32125</td>\n",
       "      <td>64.755</td>\n",
       "      <td>65.304</td>\n",
       "      <td>75.10875</td>\n",
       "      <td>118.000</td>\n",
       "      <td>132.000</td>\n",
       "    </tr>\n",
       "    <tr>\n",
       "      <th>tobacco</th>\n",
       "      <td>19.7675</td>\n",
       "      <td>0.01</td>\n",
       "      <td>0.08</td>\n",
       "      <td>20.81</td>\n",
       "      <td>34.141111</td>\n",
       "      <td>6.20</td>\n",
       "      <td>4.05</td>\n",
       "      <td>4.08</td>\n",
       "      <td>0.00</td>\n",
       "      <td>0.000</td>\n",
       "      <td>...</td>\n",
       "      <td>5.530</td>\n",
       "      <td>1.600000</td>\n",
       "      <td>0.64</td>\n",
       "      <td>2.240</td>\n",
       "      <td>0.40000</td>\n",
       "      <td>0.400</td>\n",
       "      <td>4.200</td>\n",
       "      <td>3.00000</td>\n",
       "      <td>5.400</td>\n",
       "      <td>0.000</td>\n",
       "    </tr>\n",
       "    <tr>\n",
       "      <th>ldl</th>\n",
       "      <td>5.7300</td>\n",
       "      <td>4.41</td>\n",
       "      <td>3.48</td>\n",
       "      <td>6.41</td>\n",
       "      <td>3.500000</td>\n",
       "      <td>6.47</td>\n",
       "      <td>3.38</td>\n",
       "      <td>4.59</td>\n",
       "      <td>3.83</td>\n",
       "      <td>5.800</td>\n",
       "      <td>...</td>\n",
       "      <td>3.200</td>\n",
       "      <td>90.514286</td>\n",
       "      <td>4.82</td>\n",
       "      <td>2.830</td>\n",
       "      <td>4.11000</td>\n",
       "      <td>5.980</td>\n",
       "      <td>4.410</td>\n",
       "      <td>75.10875</td>\n",
       "      <td>77.151</td>\n",
       "      <td>4.820</td>\n",
       "    </tr>\n",
       "    <tr>\n",
       "      <th>adiposity</th>\n",
       "      <td>23.1100</td>\n",
       "      <td>28.61</td>\n",
       "      <td>32.28</td>\n",
       "      <td>20.81</td>\n",
       "      <td>27.780000</td>\n",
       "      <td>36.21</td>\n",
       "      <td>16.20</td>\n",
       "      <td>28.25</td>\n",
       "      <td>19.40</td>\n",
       "      <td>30.960</td>\n",
       "      <td>...</td>\n",
       "      <td>28.810</td>\n",
       "      <td>90.514286</td>\n",
       "      <td>28.02</td>\n",
       "      <td>26.480</td>\n",
       "      <td>72.32125</td>\n",
       "      <td>31.720</td>\n",
       "      <td>32.100</td>\n",
       "      <td>15.23000</td>\n",
       "      <td>30.790</td>\n",
       "      <td>33.410</td>\n",
       "    </tr>\n",
       "    <tr>\n",
       "      <th>famhist</th>\n",
       "      <td>1.0000</td>\n",
       "      <td>0.00</td>\n",
       "      <td>1.00</td>\n",
       "      <td>1.00</td>\n",
       "      <td>1.000000</td>\n",
       "      <td>1.00</td>\n",
       "      <td>0.00</td>\n",
       "      <td>1.00</td>\n",
       "      <td>1.00</td>\n",
       "      <td>1.000</td>\n",
       "      <td>...</td>\n",
       "      <td>1.000</td>\n",
       "      <td>1.000000</td>\n",
       "      <td>0.00</td>\n",
       "      <td>0.000</td>\n",
       "      <td>1.00000</td>\n",
       "      <td>0.000</td>\n",
       "      <td>0.000</td>\n",
       "      <td>0.00000</td>\n",
       "      <td>0.000</td>\n",
       "      <td>1.000</td>\n",
       "    </tr>\n",
       "    <tr>\n",
       "      <th>typea</th>\n",
       "      <td>49.0000</td>\n",
       "      <td>55.00</td>\n",
       "      <td>52.00</td>\n",
       "      <td>51.00</td>\n",
       "      <td>60.000000</td>\n",
       "      <td>62.00</td>\n",
       "      <td>59.00</td>\n",
       "      <td>62.00</td>\n",
       "      <td>49.00</td>\n",
       "      <td>26.387</td>\n",
       "      <td>...</td>\n",
       "      <td>61.000</td>\n",
       "      <td>90.514286</td>\n",
       "      <td>60.00</td>\n",
       "      <td>48.000</td>\n",
       "      <td>56.00000</td>\n",
       "      <td>64.000</td>\n",
       "      <td>52.000</td>\n",
       "      <td>40.00000</td>\n",
       "      <td>64.000</td>\n",
       "      <td>62.000</td>\n",
       "    </tr>\n",
       "    <tr>\n",
       "      <th>obesity</th>\n",
       "      <td>25.3000</td>\n",
       "      <td>28.87</td>\n",
       "      <td>29.14</td>\n",
       "      <td>20.81</td>\n",
       "      <td>25.990000</td>\n",
       "      <td>30.77</td>\n",
       "      <td>20.81</td>\n",
       "      <td>23.11</td>\n",
       "      <td>24.86</td>\n",
       "      <td>30.110</td>\n",
       "      <td>...</td>\n",
       "      <td>26.150</td>\n",
       "      <td>90.514286</td>\n",
       "      <td>28.11</td>\n",
       "      <td>23.960</td>\n",
       "      <td>72.32125</td>\n",
       "      <td>28.450</td>\n",
       "      <td>28.610</td>\n",
       "      <td>75.10875</td>\n",
       "      <td>27.350</td>\n",
       "      <td>74.323</td>\n",
       "    </tr>\n",
       "    <tr>\n",
       "      <th>alcohol</th>\n",
       "      <td>19.7675</td>\n",
       "      <td>2.06</td>\n",
       "      <td>3.81</td>\n",
       "      <td>24.26</td>\n",
       "      <td>34.141111</td>\n",
       "      <td>14.14</td>\n",
       "      <td>2.62</td>\n",
       "      <td>6.72</td>\n",
       "      <td>2.49</td>\n",
       "      <td>0.000</td>\n",
       "      <td>...</td>\n",
       "      <td>77.569</td>\n",
       "      <td>0.000000</td>\n",
       "      <td>8.23</td>\n",
       "      <td>71.651</td>\n",
       "      <td>2.06000</td>\n",
       "      <td>0.000</td>\n",
       "      <td>18.720</td>\n",
       "      <td>26.64000</td>\n",
       "      <td>23.970</td>\n",
       "      <td>0.000</td>\n",
       "    </tr>\n",
       "    <tr>\n",
       "      <th>age</th>\n",
       "      <td>52.0000</td>\n",
       "      <td>63.00</td>\n",
       "      <td>46.00</td>\n",
       "      <td>58.00</td>\n",
       "      <td>49.000000</td>\n",
       "      <td>45.00</td>\n",
       "      <td>38.00</td>\n",
       "      <td>58.00</td>\n",
       "      <td>29.00</td>\n",
       "      <td>53.000</td>\n",
       "      <td>...</td>\n",
       "      <td>42.000</td>\n",
       "      <td>51.000000</td>\n",
       "      <td>39.00</td>\n",
       "      <td>27.000</td>\n",
       "      <td>57.00000</td>\n",
       "      <td>58.000</td>\n",
       "      <td>52.000</td>\n",
       "      <td>55.00000</td>\n",
       "      <td>40.000</td>\n",
       "      <td>46.000</td>\n",
       "    </tr>\n",
       "    <tr>\n",
       "      <th>chd</th>\n",
       "      <td>1.0000</td>\n",
       "      <td>1.00</td>\n",
       "      <td>0.00</td>\n",
       "      <td>1.00</td>\n",
       "      <td>1.000000</td>\n",
       "      <td>0.00</td>\n",
       "      <td>0.00</td>\n",
       "      <td>1.00</td>\n",
       "      <td>0.00</td>\n",
       "      <td>1.000</td>\n",
       "      <td>...</td>\n",
       "      <td>0.000</td>\n",
       "      <td>1.000000</td>\n",
       "      <td>1.00</td>\n",
       "      <td>1.000</td>\n",
       "      <td>0.00000</td>\n",
       "      <td>0.000</td>\n",
       "      <td>1.000</td>\n",
       "      <td>0.00000</td>\n",
       "      <td>0.000</td>\n",
       "      <td>1.000</td>\n",
       "    </tr>\n",
       "  </tbody>\n",
       "</table>\n",
       "<p>11 rows × 462 columns</p>\n",
       "</div>"
      ],
      "text/plain": [
       "               0       1       2      3           4       5       6       7    \\\n",
       "row         1.0000    2.00    3.00   4.00    5.000000    6.00    7.00    8.00   \n",
       "sbp        19.7675  144.00  118.00  20.81  134.000000  132.00  142.00  114.00   \n",
       "tobacco    19.7675    0.01    0.08  20.81   34.141111    6.20    4.05    4.08   \n",
       "ldl         5.7300    4.41    3.48   6.41    3.500000    6.47    3.38    4.59   \n",
       "adiposity  23.1100   28.61   32.28  20.81   27.780000   36.21   16.20   28.25   \n",
       "famhist     1.0000    0.00    1.00   1.00    1.000000    1.00    0.00    1.00   \n",
       "typea      49.0000   55.00   52.00  51.00   60.000000   62.00   59.00   62.00   \n",
       "obesity    25.3000   28.87   29.14  20.81   25.990000   30.77   20.81   23.11   \n",
       "alcohol    19.7675    2.06    3.81  24.26   34.141111   14.14    2.62    6.72   \n",
       "age        52.0000   63.00   46.00  58.00   49.000000   45.00   38.00   58.00   \n",
       "chd         1.0000    1.00    0.00   1.00    1.000000    0.00    0.00    1.00   \n",
       "\n",
       "              8        9     ...         452         453     454      455  \\\n",
       "row          9.00   10.000   ...     454.000  455.000000  456.00  457.000   \n",
       "sbp        114.00  132.000   ...     154.000  124.000000  146.00  128.000   \n",
       "tobacco      0.00    0.000   ...       5.530    1.600000    0.64    2.240   \n",
       "ldl          3.83    5.800   ...       3.200   90.514286    4.82    2.830   \n",
       "adiposity   19.40   30.960   ...      28.810   90.514286   28.02   26.480   \n",
       "famhist      1.00    1.000   ...       1.000    1.000000    0.00    0.000   \n",
       "typea       49.00   26.387   ...      61.000   90.514286   60.00   48.000   \n",
       "obesity     24.86   30.110   ...      26.150   90.514286   28.11   23.960   \n",
       "alcohol      2.49    0.000   ...      77.569    0.000000    8.23   71.651   \n",
       "age         29.00   53.000   ...      42.000   51.000000   39.00   27.000   \n",
       "chd          0.00    1.000   ...       0.000    1.000000    1.00    1.000   \n",
       "\n",
       "                 456      457      458        459      460      461  \n",
       "row        458.00000  459.000  460.000  461.00000  462.000  463.000  \n",
       "sbp         72.32125   64.755   65.304   75.10875  118.000  132.000  \n",
       "tobacco      0.40000    0.400    4.200    3.00000    5.400    0.000  \n",
       "ldl          4.11000    5.980    4.410   75.10875   77.151    4.820  \n",
       "adiposity   72.32125   31.720   32.100   15.23000   30.790   33.410  \n",
       "famhist      1.00000    0.000    0.000    0.00000    0.000    1.000  \n",
       "typea       56.00000   64.000   52.000   40.00000   64.000   62.000  \n",
       "obesity     72.32125   28.450   28.610   75.10875   27.350   74.323  \n",
       "alcohol      2.06000    0.000   18.720   26.64000   23.970    0.000  \n",
       "age         57.00000   58.000   52.000   55.00000   40.000   46.000  \n",
       "chd          0.00000    0.000    1.000    0.00000    0.000    1.000  \n",
       "\n",
       "[11 rows x 462 columns]"
      ]
     },
     "execution_count": 90,
     "metadata": {},
     "output_type": "execute_result"
    }
   ],
   "source": [
    "newc.fillna(newc.mean())"
   ]
  },
  {
   "cell_type": "code",
   "execution_count": 91,
   "metadata": {
    "collapsed": true
   },
   "outputs": [],
   "source": [
    "newc2 = newc.transpose()"
   ]
  },
  {
   "cell_type": "code",
   "execution_count": 92,
   "metadata": {},
   "outputs": [
    {
     "data": {
      "text/html": [
       "<div>\n",
       "<style>\n",
       "    .dataframe thead tr:only-child th {\n",
       "        text-align: right;\n",
       "    }\n",
       "\n",
       "    .dataframe thead th {\n",
       "        text-align: left;\n",
       "    }\n",
       "\n",
       "    .dataframe tbody tr th {\n",
       "        vertical-align: top;\n",
       "    }\n",
       "</style>\n",
       "<table border=\"1\" class=\"dataframe\">\n",
       "  <thead>\n",
       "    <tr style=\"text-align: right;\">\n",
       "      <th></th>\n",
       "      <th>row</th>\n",
       "      <th>sbp</th>\n",
       "      <th>tobacco</th>\n",
       "      <th>ldl</th>\n",
       "      <th>adiposity</th>\n",
       "      <th>famhist</th>\n",
       "      <th>typea</th>\n",
       "      <th>obesity</th>\n",
       "      <th>alcohol</th>\n",
       "      <th>age</th>\n",
       "      <th>chd</th>\n",
       "    </tr>\n",
       "  </thead>\n",
       "  <tbody>\n",
       "    <tr>\n",
       "      <th>0</th>\n",
       "      <td>1.0</td>\n",
       "      <td>NaN</td>\n",
       "      <td>NaN</td>\n",
       "      <td>5.73</td>\n",
       "      <td>23.11</td>\n",
       "      <td>1.0</td>\n",
       "      <td>49.0</td>\n",
       "      <td>25.30</td>\n",
       "      <td>NaN</td>\n",
       "      <td>52.0</td>\n",
       "      <td>1.0</td>\n",
       "    </tr>\n",
       "    <tr>\n",
       "      <th>1</th>\n",
       "      <td>2.0</td>\n",
       "      <td>144.0</td>\n",
       "      <td>0.01</td>\n",
       "      <td>4.41</td>\n",
       "      <td>28.61</td>\n",
       "      <td>0.0</td>\n",
       "      <td>55.0</td>\n",
       "      <td>28.87</td>\n",
       "      <td>2.06</td>\n",
       "      <td>63.0</td>\n",
       "      <td>1.0</td>\n",
       "    </tr>\n",
       "    <tr>\n",
       "      <th>2</th>\n",
       "      <td>3.0</td>\n",
       "      <td>118.0</td>\n",
       "      <td>0.08</td>\n",
       "      <td>3.48</td>\n",
       "      <td>32.28</td>\n",
       "      <td>1.0</td>\n",
       "      <td>52.0</td>\n",
       "      <td>29.14</td>\n",
       "      <td>3.81</td>\n",
       "      <td>46.0</td>\n",
       "      <td>0.0</td>\n",
       "    </tr>\n",
       "    <tr>\n",
       "      <th>3</th>\n",
       "      <td>4.0</td>\n",
       "      <td>NaN</td>\n",
       "      <td>NaN</td>\n",
       "      <td>6.41</td>\n",
       "      <td>NaN</td>\n",
       "      <td>1.0</td>\n",
       "      <td>51.0</td>\n",
       "      <td>NaN</td>\n",
       "      <td>24.26</td>\n",
       "      <td>58.0</td>\n",
       "      <td>1.0</td>\n",
       "    </tr>\n",
       "    <tr>\n",
       "      <th>4</th>\n",
       "      <td>5.0</td>\n",
       "      <td>134.0</td>\n",
       "      <td>NaN</td>\n",
       "      <td>3.50</td>\n",
       "      <td>27.78</td>\n",
       "      <td>1.0</td>\n",
       "      <td>60.0</td>\n",
       "      <td>25.99</td>\n",
       "      <td>NaN</td>\n",
       "      <td>49.0</td>\n",
       "      <td>1.0</td>\n",
       "    </tr>\n",
       "  </tbody>\n",
       "</table>\n",
       "</div>"
      ],
      "text/plain": [
       "   row    sbp  tobacco   ldl  adiposity  famhist  typea  obesity  alcohol  \\\n",
       "0  1.0    NaN      NaN  5.73      23.11      1.0   49.0    25.30      NaN   \n",
       "1  2.0  144.0     0.01  4.41      28.61      0.0   55.0    28.87     2.06   \n",
       "2  3.0  118.0     0.08  3.48      32.28      1.0   52.0    29.14     3.81   \n",
       "3  4.0    NaN      NaN  6.41        NaN      1.0   51.0      NaN    24.26   \n",
       "4  5.0  134.0      NaN  3.50      27.78      1.0   60.0    25.99      NaN   \n",
       "\n",
       "    age  chd  \n",
       "0  52.0  1.0  \n",
       "1  63.0  1.0  \n",
       "2  46.0  0.0  \n",
       "3  58.0  1.0  \n",
       "4  49.0  1.0  "
      ]
     },
     "execution_count": 92,
     "metadata": {},
     "output_type": "execute_result"
    }
   ],
   "source": [
    "newc2.head()"
   ]
  },
  {
   "cell_type": "code",
   "execution_count": 93,
   "metadata": {},
   "outputs": [
    {
     "data": {
      "text/html": [
       "<div>\n",
       "<style>\n",
       "    .dataframe thead tr:only-child th {\n",
       "        text-align: right;\n",
       "    }\n",
       "\n",
       "    .dataframe thead th {\n",
       "        text-align: left;\n",
       "    }\n",
       "\n",
       "    .dataframe tbody tr th {\n",
       "        vertical-align: top;\n",
       "    }\n",
       "</style>\n",
       "<table border=\"1\" class=\"dataframe\">\n",
       "  <thead>\n",
       "    <tr style=\"text-align: right;\">\n",
       "      <th></th>\n",
       "      <th>row</th>\n",
       "      <th>sbp</th>\n",
       "      <th>tobacco</th>\n",
       "      <th>ldl</th>\n",
       "      <th>adiposity</th>\n",
       "      <th>famhist</th>\n",
       "      <th>typea</th>\n",
       "      <th>obesity</th>\n",
       "      <th>alcohol</th>\n",
       "      <th>age</th>\n",
       "      <th>chd</th>\n",
       "    </tr>\n",
       "  </thead>\n",
       "  <tbody>\n",
       "    <tr>\n",
       "      <th>0</th>\n",
       "      <td>1.0</td>\n",
       "      <td>132.386667</td>\n",
       "      <td>2.046967</td>\n",
       "      <td>5.73</td>\n",
       "      <td>23.11000</td>\n",
       "      <td>1.0</td>\n",
       "      <td>49.0</td>\n",
       "      <td>25.300000</td>\n",
       "      <td>7.385239</td>\n",
       "      <td>52.0</td>\n",
       "      <td>1.0</td>\n",
       "    </tr>\n",
       "    <tr>\n",
       "      <th>1</th>\n",
       "      <td>2.0</td>\n",
       "      <td>144.000000</td>\n",
       "      <td>0.010000</td>\n",
       "      <td>4.41</td>\n",
       "      <td>28.61000</td>\n",
       "      <td>0.0</td>\n",
       "      <td>55.0</td>\n",
       "      <td>28.870000</td>\n",
       "      <td>2.060000</td>\n",
       "      <td>63.0</td>\n",
       "      <td>1.0</td>\n",
       "    </tr>\n",
       "    <tr>\n",
       "      <th>2</th>\n",
       "      <td>3.0</td>\n",
       "      <td>118.000000</td>\n",
       "      <td>0.080000</td>\n",
       "      <td>3.48</td>\n",
       "      <td>32.28000</td>\n",
       "      <td>1.0</td>\n",
       "      <td>52.0</td>\n",
       "      <td>29.140000</td>\n",
       "      <td>3.810000</td>\n",
       "      <td>46.0</td>\n",
       "      <td>0.0</td>\n",
       "    </tr>\n",
       "    <tr>\n",
       "      <th>3</th>\n",
       "      <td>4.0</td>\n",
       "      <td>132.386667</td>\n",
       "      <td>2.046967</td>\n",
       "      <td>6.41</td>\n",
       "      <td>26.50301</td>\n",
       "      <td>1.0</td>\n",
       "      <td>51.0</td>\n",
       "      <td>25.647608</td>\n",
       "      <td>24.260000</td>\n",
       "      <td>58.0</td>\n",
       "      <td>1.0</td>\n",
       "    </tr>\n",
       "    <tr>\n",
       "      <th>4</th>\n",
       "      <td>5.0</td>\n",
       "      <td>134.000000</td>\n",
       "      <td>2.046967</td>\n",
       "      <td>3.50</td>\n",
       "      <td>27.78000</td>\n",
       "      <td>1.0</td>\n",
       "      <td>60.0</td>\n",
       "      <td>25.990000</td>\n",
       "      <td>7.385239</td>\n",
       "      <td>49.0</td>\n",
       "      <td>1.0</td>\n",
       "    </tr>\n",
       "  </tbody>\n",
       "</table>\n",
       "</div>"
      ],
      "text/plain": [
       "   row         sbp   tobacco   ldl  adiposity  famhist  typea    obesity  \\\n",
       "0  1.0  132.386667  2.046967  5.73   23.11000      1.0   49.0  25.300000   \n",
       "1  2.0  144.000000  0.010000  4.41   28.61000      0.0   55.0  28.870000   \n",
       "2  3.0  118.000000  0.080000  3.48   32.28000      1.0   52.0  29.140000   \n",
       "3  4.0  132.386667  2.046967  6.41   26.50301      1.0   51.0  25.647608   \n",
       "4  5.0  134.000000  2.046967  3.50   27.78000      1.0   60.0  25.990000   \n",
       "\n",
       "     alcohol   age  chd  \n",
       "0   7.385239  52.0  1.0  \n",
       "1   2.060000  63.0  1.0  \n",
       "2   3.810000  46.0  0.0  \n",
       "3  24.260000  58.0  1.0  \n",
       "4   7.385239  49.0  1.0  "
      ]
     },
     "execution_count": 93,
     "metadata": {},
     "output_type": "execute_result"
    }
   ],
   "source": [
    "df=newc2.fillna(newc2.mean())\n",
    "df.head()"
   ]
  },
  {
   "cell_type": "code",
   "execution_count": 94,
   "metadata": {},
   "outputs": [
    {
     "data": {
      "text/html": [
       "<div>\n",
       "<style>\n",
       "    .dataframe thead tr:only-child th {\n",
       "        text-align: right;\n",
       "    }\n",
       "\n",
       "    .dataframe thead th {\n",
       "        text-align: left;\n",
       "    }\n",
       "\n",
       "    .dataframe tbody tr th {\n",
       "        vertical-align: top;\n",
       "    }\n",
       "</style>\n",
       "<table border=\"1\" class=\"dataframe\">\n",
       "  <thead>\n",
       "    <tr style=\"text-align: right;\">\n",
       "      <th></th>\n",
       "      <th>row</th>\n",
       "      <th>sbp</th>\n",
       "      <th>tobacco</th>\n",
       "      <th>ldl</th>\n",
       "      <th>adiposity</th>\n",
       "      <th>famhist</th>\n",
       "      <th>typea</th>\n",
       "      <th>obesity</th>\n",
       "      <th>alcohol</th>\n",
       "      <th>age</th>\n",
       "      <th>chd</th>\n",
       "    </tr>\n",
       "  </thead>\n",
       "  <tbody>\n",
       "    <tr>\n",
       "      <th>0</th>\n",
       "      <td>1</td>\n",
       "      <td>132.386667</td>\n",
       "      <td>2.046967</td>\n",
       "      <td>5.73</td>\n",
       "      <td>23.11000</td>\n",
       "      <td>1</td>\n",
       "      <td>49.0</td>\n",
       "      <td>25.300000</td>\n",
       "      <td>7.385239</td>\n",
       "      <td>52.0</td>\n",
       "      <td>1</td>\n",
       "    </tr>\n",
       "    <tr>\n",
       "      <th>1</th>\n",
       "      <td>2</td>\n",
       "      <td>144.000000</td>\n",
       "      <td>0.010000</td>\n",
       "      <td>4.41</td>\n",
       "      <td>28.61000</td>\n",
       "      <td>0</td>\n",
       "      <td>55.0</td>\n",
       "      <td>28.870000</td>\n",
       "      <td>2.060000</td>\n",
       "      <td>63.0</td>\n",
       "      <td>1</td>\n",
       "    </tr>\n",
       "    <tr>\n",
       "      <th>2</th>\n",
       "      <td>3</td>\n",
       "      <td>118.000000</td>\n",
       "      <td>0.080000</td>\n",
       "      <td>3.48</td>\n",
       "      <td>32.28000</td>\n",
       "      <td>1</td>\n",
       "      <td>52.0</td>\n",
       "      <td>29.140000</td>\n",
       "      <td>3.810000</td>\n",
       "      <td>46.0</td>\n",
       "      <td>0</td>\n",
       "    </tr>\n",
       "    <tr>\n",
       "      <th>3</th>\n",
       "      <td>4</td>\n",
       "      <td>132.386667</td>\n",
       "      <td>2.046967</td>\n",
       "      <td>6.41</td>\n",
       "      <td>26.50301</td>\n",
       "      <td>1</td>\n",
       "      <td>51.0</td>\n",
       "      <td>25.647608</td>\n",
       "      <td>24.260000</td>\n",
       "      <td>58.0</td>\n",
       "      <td>1</td>\n",
       "    </tr>\n",
       "    <tr>\n",
       "      <th>4</th>\n",
       "      <td>5</td>\n",
       "      <td>134.000000</td>\n",
       "      <td>2.046967</td>\n",
       "      <td>3.50</td>\n",
       "      <td>27.78000</td>\n",
       "      <td>1</td>\n",
       "      <td>60.0</td>\n",
       "      <td>25.990000</td>\n",
       "      <td>7.385239</td>\n",
       "      <td>49.0</td>\n",
       "      <td>1</td>\n",
       "    </tr>\n",
       "  </tbody>\n",
       "</table>\n",
       "</div>"
      ],
      "text/plain": [
       "   row         sbp   tobacco   ldl  adiposity  famhist  typea    obesity  \\\n",
       "0    1  132.386667  2.046967  5.73   23.11000        1   49.0  25.300000   \n",
       "1    2  144.000000  0.010000  4.41   28.61000        0   55.0  28.870000   \n",
       "2    3  118.000000  0.080000  3.48   32.28000        1   52.0  29.140000   \n",
       "3    4  132.386667  2.046967  6.41   26.50301        1   51.0  25.647608   \n",
       "4    5  134.000000  2.046967  3.50   27.78000        1   60.0  25.990000   \n",
       "\n",
       "     alcohol   age  chd  \n",
       "0   7.385239  52.0    1  \n",
       "1   2.060000  63.0    1  \n",
       "2   3.810000  46.0    0  \n",
       "3  24.260000  58.0    1  \n",
       "4   7.385239  49.0    1  "
      ]
     },
     "execution_count": 94,
     "metadata": {},
     "output_type": "execute_result"
    }
   ],
   "source": [
    "df['row']= df['row'].astype(np.int64)\n",
    "df['famhist']=df['famhist'].astype(np.int64)\n",
    "df['chd']= df['chd'].astype(np.int64)\n",
    "df.head()"
   ]
  },
  {
   "cell_type": "code",
   "execution_count": 95,
   "metadata": {
    "collapsed": true
   },
   "outputs": [],
   "source": [
    "#Now it's time to do a train test split, and train our model!\n",
    "\n",
    "#Split the data into training set and testing set using train_test_split\n",
    "\n",
    "from sklearn.model_selection import train_test_split\n",
    "\n",
    "X = df[['sbp', 'tobacco', 'ldl','adiposity', 'famhist', 'typea', 'obesity', 'alcohol', 'age']]\n",
    "\n",
    "y = df['chd']\n",
    "\n",
    "X_train, X_test, y_train, y_test = train_test_split(X, y, test_size=0.33, random_state=42)\n"
   ]
  },
  {
   "cell_type": "code",
   "execution_count": 96,
   "metadata": {},
   "outputs": [
    {
     "data": {
      "text/plain": [
       "LogisticRegression(C=1.0, class_weight=None, dual=False, fit_intercept=True,\n",
       "          intercept_scaling=1, max_iter=100, multi_class='ovr', n_jobs=1,\n",
       "          penalty='l2', random_state=None, solver='liblinear', tol=0.0001,\n",
       "          verbose=0, warm_start=False)"
      ]
     },
     "execution_count": 96,
     "metadata": {},
     "output_type": "execute_result"
    }
   ],
   "source": [
    "#Train and fit a logistic regression model on the training set.\n",
    "\n",
    "logmodel = LogisticRegression()\n",
    "logmodel.fit(X_train,y_train)"
   ]
  },
  {
   "cell_type": "code",
   "execution_count": 97,
   "metadata": {
    "collapsed": true
   },
   "outputs": [],
   "source": [
    "#Predictions and Evaluations\n",
    "\n",
    "#Now predict values for the testing data.\n",
    "\n",
    "predictions = logmodel.predict(X_test)"
   ]
  },
  {
   "cell_type": "code",
   "execution_count": 101,
   "metadata": {},
   "outputs": [
    {
     "name": "stdout",
     "output_type": "stream",
     "text": [
      "\n",
      " Classification report is as follows: \n",
      " \n",
      "             precision    recall  f1-score   support\n",
      "\n",
      "          0       0.73      0.88      0.80        97\n",
      "          1       0.68      0.45      0.54        56\n",
      "\n",
      "avg / total       0.71      0.72      0.70       153\n",
      "\n",
      "\n",
      " f-1 socre is \n",
      "\n",
      "0.667878237165\n",
      "\n",
      " Precision score is \n",
      "\n",
      "0.704217148183\n",
      "\n",
      " Recall socre is \n",
      "\n",
      "0.661358615611\n",
      "\n",
      " Accuracy score is \n",
      "\n",
      "0.718954248366\n"
     ]
    }
   ],
   "source": [
    "#Create a classification report for the model.\n",
    "#Let's print classification report\n",
    "print(\"\\n Classification report is as follows: \\n \")\n",
    "print(classification_report(y_test,predictions))\n",
    "#Calculate f-1 score\n",
    "print(\"\\n f-1 socre is \\n\")\n",
    "print(f1_score(y_test, predictions, average=\"macro\"))\n",
    "#Calculate precision score\n",
    "print(\"\\n Precision score is \\n\")\n",
    "print(precision_score(y_test, predictions, average=\"macro\"))\n",
    "#Calculate recall score\n",
    "print(\"\\n Recall socre is \\n\")\n",
    "print(recall_score(y_test, predictions, average=\"macro\"))\n",
    "print(\"\\n Accuracy score is \\n\")\n",
    "print(metrics.accuracy_score(y_test, predictions))\n"
   ]
  },
  {
   "cell_type": "code",
   "execution_count": 46,
   "metadata": {},
   "outputs": [
    {
     "data": {
      "text/plain": [
       "([0.16666666666666666,\n",
       "  0.26229508196721313,\n",
       "  0.2608695652173913,\n",
       "  0.26016260162601629,\n",
       "  0.27272727272727271,\n",
       "  0.30810810810810813,\n",
       "  0.27777777777777779,\n",
       "  0.291497975708502,\n",
       "  0.30215827338129497,\n",
       "  0.29126213592233008],\n",
       " [0.5163398692810458,\n",
       "  0.40522875816993464,\n",
       "  0.34640522875816993,\n",
       "  0.30065359477124182,\n",
       "  0.3202614379084967,\n",
       "  0.30718954248366015,\n",
       "  0.31372549019607843,\n",
       "  0.29411764705882354,\n",
       "  0.30718954248366015,\n",
       "  0.28104575163398693])"
      ]
     },
     "execution_count": 46,
     "metadata": {},
     "output_type": "execute_result"
    },
    {
     "data": {
      "image/png": "[encoded data removed]",
      "text/plain": [
       "<matplotlib.figure.Figure at 0x1f23c00d160>"
      ]
     },
     "metadata": {},
     "output_type": "display_data"
    }
   ],
   "source": [
    "plot_learning_curves(X_train, y_train, X_test, y_test, logmodel)\n"
   ]
  },
  {
   "cell_type": "code",
   "execution_count": 31,
   "metadata": {
    "collapsed": true
   },
   "outputs": [],
   "source": [
    "# Let's apply K nearest neighbour "
   ]
  },
  {
   "cell_type": "code",
   "execution_count": 49,
   "metadata": {},
   "outputs": [
    {
     "data": {
      "text/plain": [
       "KNeighborsClassifier(algorithm='auto', leaf_size=30, metric='minkowski',\n",
       "           metric_params=None, n_jobs=1, n_neighbors=1, p=2,\n",
       "           weights='uniform')"
      ]
     },
     "execution_count": 49,
     "metadata": {},
     "output_type": "execute_result"
    }
   ],
   "source": [
    "knn = KNeighborsClassifier(n_neighbors=1)\n",
    "\n",
    "knn.fit(X_train,y_train)"
   ]
  },
  {
   "cell_type": "code",
   "execution_count": 102,
   "metadata": {},
   "outputs": [
    {
     "name": "stdout",
     "output_type": "stream",
     "text": [
      "\n",
      " Classification report is as follows: \n",
      " \n",
      "             precision    recall  f1-score   support\n",
      "\n",
      "          0       0.67      0.63      0.65        97\n",
      "          1       0.42      0.46      0.44        56\n",
      "\n",
      "avg / total       0.58      0.57      0.57       153\n",
      "\n",
      "\n",
      " f-1 socre is \n",
      "\n",
      "0.544807068157\n",
      "\n",
      " Precision score is \n",
      "\n",
      "0.54484225452\n",
      "\n",
      " Recall socre is \n",
      "\n",
      "0.546575846834\n",
      "\n",
      " Accuracy score is \n",
      "\n",
      "0.56862745098\n"
     ]
    }
   ],
   "source": [
    "predictionsknn = knn.predict(X_test)\n",
    "#Let's print classification report\n",
    "print(\"\\n Classification report is as follows: \\n \")\n",
    "print(classification_report(y_test,predictionsknn))\n",
    "#Calculate f-1 score\n",
    "print(\"\\n f-1 socre is \\n\")\n",
    "print(f1_score(y_test, predictionsknn, average=\"macro\"))\n",
    "#Calculate precision score\n",
    "print(\"\\n Precision score is \\n\")\n",
    "print(precision_score(y_test, predictionsknn, average=\"macro\"))\n",
    "#Calculate recall score\n",
    "print(\"\\n Recall socre is \\n\")\n",
    "print(recall_score(y_test, predictionsknn, average=\"macro\"))\n",
    "print(\"\\n Accuracy score is \\n\")\n",
    "print(metrics.accuracy_score(y_test, predictionsknn))"
   ]
  },
  {
   "cell_type": "code",
   "execution_count": 104,
   "metadata": {},
   "outputs": [
    {
     "data": {
      "text/plain": [
       "([0.0, 0.0, 0.0, 0.0, 0.0, 0.0, 0.0, 0.0, 0.0, 0.0],\n",
       " [0.37254901960784315,\n",
       "  0.41830065359477125,\n",
       "  0.46405228758169936,\n",
       "  0.46405228758169936,\n",
       "  0.47058823529411764,\n",
       "  0.44444444444444442,\n",
       "  0.43790849673202614,\n",
       "  0.45098039215686275,\n",
       "  0.42483660130718953,\n",
       "  0.43137254901960786])"
      ]
     },
     "execution_count": 104,
     "metadata": {},
     "output_type": "execute_result"
    },
    {
     "data": {
      "image/png": "[encoded data removed]",
      "text/plain": [
       "<matplotlib.figure.Figure at 0x1f23c73a390>"
      ]
     },
     "metadata": {},
     "output_type": "display_data"
    }
   ],
   "source": [
    "plot_learning_curves(X_train, y_train, X_test, y_test, knn)\n"
   ]
  },
  {
   "cell_type": "code",
   "execution_count": 117,
   "metadata": {},
   "outputs": [
    {
     "name": "stdout",
     "output_type": "stream",
     "text": [
      "[0.56862745098039214, 0.56862745098039214, 0.54248366013071891, 0.56209150326797386, 0.57516339869281041, 0.54248366013071891, 0.56862745098039214, 0.5816993464052288, 0.6143790849673203, 0.63398692810457513, 0.62091503267973858, 0.65359477124183007, 0.62745098039215685, 0.6143790849673203, 0.62091503267973858, 0.6470588235294118, 0.62091503267973858, 0.63398692810457513, 0.63398692810457513, 0.64052287581699341, 0.64052287581699341, 0.6470588235294118, 0.63398692810457513, 0.65359477124183007, 0.63398692810457513, 0.66013071895424835, 0.66666666666666663, 0.67320261437908502, 0.66013071895424835, 0.66013071895424835, 0.66666666666666663, 0.63398692810457513, 0.63398692810457513, 0.62745098039215685, 0.63398692810457513, 0.63398692810457513, 0.63398692810457513, 0.63398692810457513, 0.63398692810457513]\n"
     ]
    }
   ],
   "source": [
    "k_range = range(1, 40)\n",
    "\n",
    "# We can create Python dictionary using [] or dict()\n",
    "scores = []\n",
    "\n",
    "# We use a loop through the range 1 to 40\n",
    "# We append the scores in the dictionary\n",
    "for k in k_range:\n",
    "    knn = KNeighborsClassifier(n_neighbors=k)\n",
    "    knn.fit(X_train, y_train)\n",
    "    y_pred = knn.predict(X_test)\n",
    "    scores.append(metrics.accuracy_score(y_test, y_pred))\n",
    "\n",
    "print(scores)\n",
    "\n"
   ]
  },
  {
   "cell_type": "code",
   "execution_count": 125,
   "metadata": {},
   "outputs": [
    {
     "data": {
      "text/html": [
       "<div>\n",
       "<style>\n",
       "    .dataframe thead tr:only-child th {\n",
       "        text-align: right;\n",
       "    }\n",
       "\n",
       "    .dataframe thead th {\n",
       "        text-align: left;\n",
       "    }\n",
       "\n",
       "    .dataframe tbody tr th {\n",
       "        vertical-align: top;\n",
       "    }\n",
       "</style>\n",
       "<table border=\"1\" class=\"dataframe\">\n",
       "  <thead>\n",
       "    <tr style=\"text-align: right;\">\n",
       "      <th></th>\n",
       "      <th>0</th>\n",
       "      <th>1</th>\n",
       "    </tr>\n",
       "  </thead>\n",
       "  <tbody>\n",
       "    <tr>\n",
       "      <th>0</th>\n",
       "      <td>1.0</td>\n",
       "      <td>0.568627</td>\n",
       "    </tr>\n",
       "    <tr>\n",
       "      <th>1</th>\n",
       "      <td>2.0</td>\n",
       "      <td>0.568627</td>\n",
       "    </tr>\n",
       "    <tr>\n",
       "      <th>2</th>\n",
       "      <td>3.0</td>\n",
       "      <td>0.542484</td>\n",
       "    </tr>\n",
       "    <tr>\n",
       "      <th>3</th>\n",
       "      <td>4.0</td>\n",
       "      <td>0.562092</td>\n",
       "    </tr>\n",
       "    <tr>\n",
       "      <th>4</th>\n",
       "      <td>5.0</td>\n",
       "      <td>0.575163</td>\n",
       "    </tr>\n",
       "  </tbody>\n",
       "</table>\n",
       "</div>"
      ],
      "text/plain": [
       "     0         1\n",
       "0  1.0  0.568627\n",
       "1  2.0  0.568627\n",
       "2  3.0  0.542484\n",
       "3  4.0  0.562092\n",
       "4  5.0  0.575163"
      ]
     },
     "execution_count": 125,
     "metadata": {},
     "output_type": "execute_result"
    }
   ],
   "source": [
    "dic = [k_range, scores]\n",
    "df = pd.DataFrame(np.array(dic))\n",
    "df.head()\n",
    "df=df.transpose()\n",
    "df.head()"
   ]
  },
  {
   "cell_type": "code",
   "execution_count": 129,
   "metadata": {},
   "outputs": [
    {
     "data": {
      "text/html": [
       "<div>\n",
       "<style>\n",
       "    .dataframe thead tr:only-child th {\n",
       "        text-align: right;\n",
       "    }\n",
       "\n",
       "    .dataframe thead th {\n",
       "        text-align: left;\n",
       "    }\n",
       "\n",
       "    .dataframe tbody tr th {\n",
       "        vertical-align: top;\n",
       "    }\n",
       "</style>\n",
       "<table border=\"1\" class=\"dataframe\">\n",
       "  <thead>\n",
       "    <tr style=\"text-align: right;\">\n",
       "      <th></th>\n",
       "      <th>K-range</th>\n",
       "      <th>Accuracy Score</th>\n",
       "    </tr>\n",
       "  </thead>\n",
       "  <tbody>\n",
       "    <tr>\n",
       "      <th>0</th>\n",
       "      <td>1.0</td>\n",
       "      <td>0.568627</td>\n",
       "    </tr>\n",
       "    <tr>\n",
       "      <th>1</th>\n",
       "      <td>2.0</td>\n",
       "      <td>0.568627</td>\n",
       "    </tr>\n",
       "    <tr>\n",
       "      <th>2</th>\n",
       "      <td>3.0</td>\n",
       "      <td>0.542484</td>\n",
       "    </tr>\n",
       "    <tr>\n",
       "      <th>3</th>\n",
       "      <td>4.0</td>\n",
       "      <td>0.562092</td>\n",
       "    </tr>\n",
       "    <tr>\n",
       "      <th>4</th>\n",
       "      <td>5.0</td>\n",
       "      <td>0.575163</td>\n",
       "    </tr>\n",
       "  </tbody>\n",
       "</table>\n",
       "</div>"
      ],
      "text/plain": [
       "   K-range  Accuracy Score\n",
       "0      1.0        0.568627\n",
       "1      2.0        0.568627\n",
       "2      3.0        0.542484\n",
       "3      4.0        0.562092\n",
       "4      5.0        0.575163"
      ]
     },
     "execution_count": 129,
     "metadata": {},
     "output_type": "execute_result"
    }
   ],
   "source": [
    "#Let's change col names \n",
    "df.columns=['K-range', 'Accuracy Score']\n",
    "df.head()"
   ]
  },
  {
   "cell_type": "code",
   "execution_count": 108,
   "metadata": {},
   "outputs": [
    {
     "data": {
      "text/plain": [
       "Text(0,0.5,'Testing Accuracy')"
      ]
     },
     "execution_count": 108,
     "metadata": {},
     "output_type": "execute_result"
    },
    {
     "data": {
      "image/png": "[encoded data removed]",
      "text/plain": [
       "<matplotlib.figure.Figure at 0x1f23c377828>"
      ]
     },
     "metadata": {},
     "output_type": "display_data"
    }
   ],
   "source": [
    "\n",
    "# plot the relationship between K and testing accuracy\n",
    "# plt.plot(x_axis, y_axis)\n",
    "\n",
    "plt.plot(k_range, scores)\n",
    "plt.xlabel('Value of K for KNN', )\n",
    "plt.ylabel('Testing Accuracy')"
   ]
  },
  {
   "cell_type": "code",
   "execution_count": 111,
   "metadata": {
    "collapsed": true
   },
   "outputs": [],
   "source": [
    "#We will change the x axis values i.e. (ticks) with the difference of 1 so that we will accurately know what the accuracy is."
   ]
  },
  {
   "cell_type": "code",
   "execution_count": 113,
   "metadata": {},
   "outputs": [
    {
     "data": {
      "text/plain": [
       "([<matplotlib.axis.XTick at 0x1f23bfeaf60>,\n",
       "  <matplotlib.axis.XTick at 0x1f23bfd6ef0>,\n",
       "  <matplotlib.axis.XTick at 0x1f23c360860>,\n",
       "  <matplotlib.axis.XTick at 0x1f23c8da240>,\n",
       "  <matplotlib.axis.XTick at 0x1f23c8da940>,\n",
       "  <matplotlib.axis.XTick at 0x1f23c8e3080>,\n",
       "  <matplotlib.axis.XTick at 0x1f23c8e3780>,\n",
       "  <matplotlib.axis.XTick at 0x1f23c8e3e80>,\n",
       "  <matplotlib.axis.XTick at 0x1f23c8ee5c0>,\n",
       "  <matplotlib.axis.XTick at 0x1f23c8eecc0>,\n",
       "  <matplotlib.axis.XTick at 0x1f23c9fb400>,\n",
       "  <matplotlib.axis.XTick at 0x1f23c9fbb00>,\n",
       "  <matplotlib.axis.XTick at 0x1f23ca06240>,\n",
       "  <matplotlib.axis.XTick at 0x1f23ca06940>,\n",
       "  <matplotlib.axis.XTick at 0x1f23ca0f080>,\n",
       "  <matplotlib.axis.XTick at 0x1f23ca0f780>,\n",
       "  <matplotlib.axis.XTick at 0x1f23ca0fe80>,\n",
       "  <matplotlib.axis.XTick at 0x1f23ca195c0>,\n",
       "  <matplotlib.axis.XTick at 0x1f23ca19cc0>,\n",
       "  <matplotlib.axis.XTick at 0x1f23ca23400>,\n",
       "  <matplotlib.axis.XTick at 0x1f23ca23b00>,\n",
       "  <matplotlib.axis.XTick at 0x1f23ca2b240>,\n",
       "  <matplotlib.axis.XTick at 0x1f23ca2b940>,\n",
       "  <matplotlib.axis.XTick at 0x1f23ca78080>,\n",
       "  <matplotlib.axis.XTick at 0x1f23ca78780>,\n",
       "  <matplotlib.axis.XTick at 0x1f23ca78e80>,\n",
       "  <matplotlib.axis.XTick at 0x1f23ca825c0>,\n",
       "  <matplotlib.axis.XTick at 0x1f23ca82cc0>,\n",
       "  <matplotlib.axis.XTick at 0x1f23ca8c400>,\n",
       "  <matplotlib.axis.XTick at 0x1f23ca8cb00>,\n",
       "  <matplotlib.axis.XTick at 0x1f23ca99240>,\n",
       "  <matplotlib.axis.XTick at 0x1f23ca99940>,\n",
       "  <matplotlib.axis.XTick at 0x1f23caa3080>,\n",
       "  <matplotlib.axis.XTick at 0x1f23caa3780>,\n",
       "  <matplotlib.axis.XTick at 0x1f23caa3e80>,\n",
       "  <matplotlib.axis.XTick at 0x1f23caf15c0>,\n",
       "  <matplotlib.axis.XTick at 0x1f23caf1cc0>,\n",
       "  <matplotlib.axis.XTick at 0x1f23cafa400>,\n",
       "  <matplotlib.axis.XTick at 0x1f23cafab00>],\n",
       " <a list of 39 Text xticklabel objects>)"
      ]
     },
     "execution_count": 113,
     "metadata": {},
     "output_type": "execute_result"
    },
    {
     "data": {
      "image/png": "[encoded data removed]",
      "text/plain": [
       "<matplotlib.figure.Figure at 0x1f23bfeef98>"
      ]
     },
     "metadata": {},
     "output_type": "display_data"
    }
   ],
   "source": [
    "plt.plot(k_range, scores)\n",
    "plt.xlabel('Value of K for KNN', )\n",
    "plt.ylabel('Testing Accuracy')\n",
    "plt.xticks(k_range)"
   ]
  },
  {
   "cell_type": "code",
   "execution_count": 114,
   "metadata": {
    "collapsed": true
   },
   "outputs": [],
   "source": [
    "#Okay but it is sill not clear let's increase size "
   ]
  },
  {
   "cell_type": "code",
   "execution_count": 134,
   "metadata": {},
   "outputs": [
    {
     "data": {
      "image/png": "[encoded data removed]",
      "text/plain": [
       "<matplotlib.figure.Figure at 0x1f23e46a588>"
      ]
     },
     "metadata": {},
     "output_type": "display_data"
    }
   ],
   "source": [
    "\n",
    "fig, ax = plt.subplots(figsize=(18,8))\n",
    "ax = sns.pointplot(x = 'K-range', y = 'Accuracy Score', data = df, color = 'blue')\n",
    "ax.set(xlabel = 'vaues of k for knn', ylabel = 'Testing Accuracy')\n",
    "plt.title(\"Choosing the best k value\",fontsize=17)\n",
    "plt.show()"
   ]
  },
  {
   "cell_type": "code",
   "execution_count": null,
   "metadata": {
    "collapsed": true
   },
   "outputs": [],
   "source": []
  }
 ],
 "metadata": {
  "kernelspec": {
   "display_name": "Python 3",
   "language": "python",
   "name": "python3"
  },
  "language_info": {
   "codemirror_mode": {
    "name": "ipython",
    "version": 3
   },
   "file_extension": ".py",
   "mimetype": "text/x-python",
   "name": "python",
   "nbconvert_exporter": "python",
   "pygments_lexer": "ipython3",
   "version": "3.6.3"
  }
 },
 "nbformat": 4,
 "nbformat_minor": 2
}
