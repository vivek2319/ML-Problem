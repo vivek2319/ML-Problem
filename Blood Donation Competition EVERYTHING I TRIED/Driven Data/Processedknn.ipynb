{
 "cells": [
  {
   "cell_type": "code",
   "execution_count": 1,
   "metadata": {},
   "outputs": [
    {
     "name": "stderr",
     "output_type": "stream",
     "text": [
      "C:\\Users\\Vivek\\Anaconda3\\lib\\site-packages\\sklearn\\cross_validation.py:41: DeprecationWarning: This module was deprecated in version 0.18 in favor of the model_selection module into which all the refactored classes and functions are moved. Also note that the interface of the new CV iterators are different from that of this module. This module will be removed in 0.20.\n",
      "  \"This module will be removed in 0.20.\", DeprecationWarning)\n"
     ]
    },
    {
     "data": {
      "text/html": [
       "<script>requirejs.config({paths: { 'plotly': ['https://cdn.plot.ly/plotly-latest.min']},});if(!window.Plotly) {{require(['plotly'],function(plotly) {window.Plotly=plotly;});}}</script>"
      ],
      "text/vnd.plotly.v1+html": [
       "<script>requirejs.config({paths: { 'plotly': ['https://cdn.plot.ly/plotly-latest.min']},});if(!window.Plotly) {{require(['plotly'],function(plotly) {window.Plotly=plotly;});}}</script>"
      ]
     },
     "metadata": {},
     "output_type": "display_data"
    }
   ],
   "source": [
    "import pandas as pd\n",
    "import seaborn as sns\n",
    "import matplotlib.pyplot as plt\n",
    "\n",
    "import numpy as np\n",
    "\n",
    "\n",
    "\n",
    "\n",
    "import pandas as pd\n",
    "import numpy as np\n",
    "import re\n",
    "import sklearn\n",
    "import xgboost as xgb\n",
    "import seaborn as sns\n",
    "import matplotlib.pyplot as plt\n",
    "%matplotlib inline\n",
    "\n",
    "import plotly.offline as py\n",
    "py.init_notebook_mode(connected=True)\n",
    "import plotly.graph_objs as go\n",
    "import plotly.tools as tls\n",
    "\n",
    "import warnings\n",
    "warnings.filterwarnings('ignore')\n",
    "\n",
    "# Going to use these 5 base models for the stacking\n",
    "from sklearn.ensemble import (RandomForestClassifier, AdaBoostClassifier, \n",
    "                              GradientBoostingClassifier, ExtraTreesClassifier)\n",
    "from sklearn.svm import SVC\n",
    "from sklearn.cross_validation import KFold\n"
   ]
  },
  {
   "cell_type": "code",
   "execution_count": 2,
   "metadata": {},
   "outputs": [
    {
     "data": {
      "text/html": [
       "<div>\n",
       "<style>\n",
       "    .dataframe thead tr:only-child th {\n",
       "        text-align: right;\n",
       "    }\n",
       "\n",
       "    .dataframe thead th {\n",
       "        text-align: left;\n",
       "    }\n",
       "\n",
       "    .dataframe tbody tr th {\n",
       "        vertical-align: top;\n",
       "    }\n",
       "</style>\n",
       "<table border=\"1\" class=\"dataframe\">\n",
       "  <thead>\n",
       "    <tr style=\"text-align: right;\">\n",
       "      <th></th>\n",
       "      <th>Unnamed: 0</th>\n",
       "      <th>Months since Last Donation</th>\n",
       "      <th>Number of Donations</th>\n",
       "      <th>Months since First Donation</th>\n",
       "    </tr>\n",
       "  </thead>\n",
       "  <tbody>\n",
       "    <tr>\n",
       "      <th>0</th>\n",
       "      <td>659</td>\n",
       "      <td>2</td>\n",
       "      <td>12</td>\n",
       "      <td>52</td>\n",
       "    </tr>\n",
       "    <tr>\n",
       "      <th>1</th>\n",
       "      <td>276</td>\n",
       "      <td>21</td>\n",
       "      <td>7</td>\n",
       "      <td>38</td>\n",
       "    </tr>\n",
       "    <tr>\n",
       "      <th>2</th>\n",
       "      <td>263</td>\n",
       "      <td>4</td>\n",
       "      <td>1</td>\n",
       "      <td>4</td>\n",
       "    </tr>\n",
       "    <tr>\n",
       "      <th>3</th>\n",
       "      <td>303</td>\n",
       "      <td>11</td>\n",
       "      <td>11</td>\n",
       "      <td>38</td>\n",
       "    </tr>\n",
       "    <tr>\n",
       "      <th>4</th>\n",
       "      <td>83</td>\n",
       "      <td>4</td>\n",
       "      <td>12</td>\n",
       "      <td>34</td>\n",
       "    </tr>\n",
       "  </tbody>\n",
       "</table>\n",
       "</div>"
      ],
      "text/plain": [
       "   Unnamed: 0  Months since Last Donation  Number of Donations  \\\n",
       "0         659                           2                   12   \n",
       "1         276                          21                    7   \n",
       "2         263                           4                    1   \n",
       "3         303                          11                   11   \n",
       "4          83                           4                   12   \n",
       "\n",
       "   Months since First Donation  \n",
       "0                           52  \n",
       "1                           38  \n",
       "2                            4  \n",
       "3                           38  \n",
       "4                           34  "
      ]
     },
     "execution_count": 2,
     "metadata": {},
     "output_type": "execute_result"
    }
   ],
   "source": [
    "\n",
    "trai = pd.read_csv(\"train.csv\")\n",
    "tes = pd.read_csv(\"test.csv\")\n",
    "train = trai[['Unnamed: 0',\n",
    " 'Months since Last Donation',\n",
    " 'Number of Donations',\n",
    " 'Months since First Donation',\n",
    " 'Made Donation in March 2007']]\n",
    "train.head()\n",
    "test = tes[['Unnamed: 0',\n",
    " 'Months since Last Donation',\n",
    " 'Number of Donations',\n",
    " 'Months since First Donation']]\n",
    "test.head()"
   ]
  },
  {
   "cell_type": "code",
   "execution_count": 3,
   "metadata": {
    "scrolled": true
   },
   "outputs": [
    {
     "data": {
      "text/html": [
       "<div>\n",
       "<style>\n",
       "    .dataframe thead tr:only-child th {\n",
       "        text-align: right;\n",
       "    }\n",
       "\n",
       "    .dataframe thead th {\n",
       "        text-align: left;\n",
       "    }\n",
       "\n",
       "    .dataframe tbody tr th {\n",
       "        vertical-align: top;\n",
       "    }\n",
       "</style>\n",
       "<table border=\"1\" class=\"dataframe\">\n",
       "  <thead>\n",
       "    <tr style=\"text-align: right;\">\n",
       "      <th></th>\n",
       "      <th>Unnamed: 0</th>\n",
       "      <th>Months since Last Donation</th>\n",
       "      <th>Number of Donations</th>\n",
       "      <th>Months since First Donation</th>\n",
       "      <th>Made Donation in March 2007</th>\n",
       "    </tr>\n",
       "  </thead>\n",
       "  <tbody>\n",
       "    <tr>\n",
       "      <th>0</th>\n",
       "      <td>619</td>\n",
       "      <td>2</td>\n",
       "      <td>50</td>\n",
       "      <td>98</td>\n",
       "      <td>1</td>\n",
       "    </tr>\n",
       "    <tr>\n",
       "      <th>1</th>\n",
       "      <td>664</td>\n",
       "      <td>0</td>\n",
       "      <td>13</td>\n",
       "      <td>28</td>\n",
       "      <td>1</td>\n",
       "    </tr>\n",
       "    <tr>\n",
       "      <th>2</th>\n",
       "      <td>441</td>\n",
       "      <td>1</td>\n",
       "      <td>16</td>\n",
       "      <td>35</td>\n",
       "      <td>1</td>\n",
       "    </tr>\n",
       "    <tr>\n",
       "      <th>3</th>\n",
       "      <td>160</td>\n",
       "      <td>2</td>\n",
       "      <td>20</td>\n",
       "      <td>45</td>\n",
       "      <td>1</td>\n",
       "    </tr>\n",
       "    <tr>\n",
       "      <th>4</th>\n",
       "      <td>358</td>\n",
       "      <td>1</td>\n",
       "      <td>24</td>\n",
       "      <td>77</td>\n",
       "      <td>0</td>\n",
       "    </tr>\n",
       "  </tbody>\n",
       "</table>\n",
       "</div>"
      ],
      "text/plain": [
       "   Unnamed: 0  Months since Last Donation  Number of Donations  \\\n",
       "0         619                           2                   50   \n",
       "1         664                           0                   13   \n",
       "2         441                           1                   16   \n",
       "3         160                           2                   20   \n",
       "4         358                           1                   24   \n",
       "\n",
       "   Months since First Donation  Made Donation in March 2007  \n",
       "0                           98                            1  \n",
       "1                           28                            1  \n",
       "2                           35                            1  \n",
       "3                           45                            1  \n",
       "4                           77                            0  "
      ]
     },
     "execution_count": 3,
     "metadata": {},
     "output_type": "execute_result"
    }
   ],
   "source": [
    "train.head()"
   ]
  },
  {
   "cell_type": "code",
   "execution_count": 4,
   "metadata": {},
   "outputs": [
    {
     "data": {
      "text/html": [
       "<div>\n",
       "<style>\n",
       "    .dataframe thead tr:only-child th {\n",
       "        text-align: right;\n",
       "    }\n",
       "\n",
       "    .dataframe thead th {\n",
       "        text-align: left;\n",
       "    }\n",
       "\n",
       "    .dataframe tbody tr th {\n",
       "        vertical-align: top;\n",
       "    }\n",
       "</style>\n",
       "<table border=\"1\" class=\"dataframe\">\n",
       "  <thead>\n",
       "    <tr style=\"text-align: right;\">\n",
       "      <th></th>\n",
       "      <th>Unnamed: 0</th>\n",
       "      <th>Months since Last Donation</th>\n",
       "      <th>Number of Donations</th>\n",
       "      <th>Months since First Donation</th>\n",
       "    </tr>\n",
       "  </thead>\n",
       "  <tbody>\n",
       "    <tr>\n",
       "      <th>0</th>\n",
       "      <td>1.130125</td>\n",
       "      <td>-0.910739</td>\n",
       "      <td>7.772052</td>\n",
       "      <td>2.641824</td>\n",
       "    </tr>\n",
       "    <tr>\n",
       "      <th>1</th>\n",
       "      <td>1.337729</td>\n",
       "      <td>-1.155586</td>\n",
       "      <td>1.320468</td>\n",
       "      <td>-0.249946</td>\n",
       "    </tr>\n",
       "    <tr>\n",
       "      <th>2</th>\n",
       "      <td>0.308938</td>\n",
       "      <td>-1.033162</td>\n",
       "      <td>1.843569</td>\n",
       "      <td>0.039231</td>\n",
       "    </tr>\n",
       "    <tr>\n",
       "      <th>3</th>\n",
       "      <td>-0.987430</td>\n",
       "      <td>-0.910739</td>\n",
       "      <td>2.541038</td>\n",
       "      <td>0.452341</td>\n",
       "    </tr>\n",
       "    <tr>\n",
       "      <th>4</th>\n",
       "      <td>-0.073975</td>\n",
       "      <td>-1.033162</td>\n",
       "      <td>3.238506</td>\n",
       "      <td>1.774293</td>\n",
       "    </tr>\n",
       "  </tbody>\n",
       "</table>\n",
       "</div>"
      ],
      "text/plain": [
       "   Unnamed: 0  Months since Last Donation  Number of Donations  \\\n",
       "0    1.130125                   -0.910739             7.772052   \n",
       "1    1.337729                   -1.155586             1.320468   \n",
       "2    0.308938                   -1.033162             1.843569   \n",
       "3   -0.987430                   -0.910739             2.541038   \n",
       "4   -0.073975                   -1.033162             3.238506   \n",
       "\n",
       "   Months since First Donation  \n",
       "0                     2.641824  \n",
       "1                    -0.249946  \n",
       "2                     0.039231  \n",
       "3                     0.452341  \n",
       "4                     1.774293  "
      ]
     },
     "execution_count": 4,
     "metadata": {},
     "output_type": "execute_result"
    }
   ],
   "source": [
    "from sklearn.preprocessing import StandardScaler\n",
    "scaler = StandardScaler()\n",
    "scaler.fit(train.drop('Made Donation in March 2007',axis=1))\n",
    "scaled_features = scaler.transform(train.drop('Made Donation in March 2007',axis=1))\n",
    "df_feat = pd.DataFrame(scaled_features,columns=train.columns[:-1])\n",
    "df_feat.head()"
   ]
  },
  {
   "cell_type": "code",
   "execution_count": 5,
   "metadata": {
    "collapsed": true
   },
   "outputs": [],
   "source": [
    "#Train-Test Split\n",
    "from sklearn.model_selection import train_test_split\n",
    "X_train, X_test, y_train, y_test = train_test_split(scaled_features,train['Made Donation in March 2007'],\n",
    "test_size=0.30)"
   ]
  },
  {
   "cell_type": "code",
   "execution_count": 6,
   "metadata": {},
   "outputs": [
    {
     "name": "stdout",
     "output_type": "stream",
     "text": [
      "[ 0.18181818  0.18181818  0.18181818  0.18181818  0.45454545  0.18181818\n",
      "  0.18181818  0.18181818  0.18181818  0.18181818  0.18181818  0.18181818\n",
      "  0.27272727  0.18181818  0.18181818  0.18181818  0.18181818  0.18181818\n",
      "  0.27272727  0.18181818  0.18181818  0.36363636  0.18181818  0.09090909\n",
      "  0.18181818  0.27272727  0.18181818  0.18181818  0.18181818  0.18181818\n",
      "  0.27272727  0.18181818  0.18181818  0.18181818  0.18181818  0.18181818\n",
      "  0.18181818  0.18181818  0.18181818  0.18181818  0.09090909  0.18181818\n",
      "  0.18181818  0.18181818  0.18181818  0.09090909  0.18181818  0.18181818\n",
      "  0.18181818  0.18181818  0.27272727  0.18181818  0.18181818  0.18181818\n",
      "  0.18181818  0.18181818  0.45454545  0.18181818  0.36363636  0.36363636\n",
      "  0.18181818  0.27272727  0.36363636  0.18181818  0.27272727  0.18181818\n",
      "  0.18181818  0.27272727  0.27272727  0.18181818  0.27272727  0.18181818\n",
      "  0.          0.          0.18181818  0.18181818  0.18181818  0.18181818\n",
      "  0.18181818  0.18181818  0.18181818  0.18181818  0.18181818  0.09090909\n",
      "  0.27272727  0.09090909  0.18181818  0.18181818  0.27272727  0.18181818\n",
      "  0.18181818  0.18181818  0.18181818  0.18181818  0.18181818  0.45454545\n",
      "  0.18181818  0.27272727  0.18181818  0.09090909  0.18181818  0.18181818\n",
      "  0.18181818  0.18181818  0.18181818  0.18181818  0.36363636  0.18181818\n",
      "  0.09090909  0.18181818  0.09090909  0.18181818  0.18181818  0.18181818\n",
      "  0.18181818  0.18181818  0.18181818  0.27272727  0.18181818  0.18181818\n",
      "  0.18181818  0.18181818  0.18181818  0.27272727  0.36363636  0.45454545\n",
      "  0.18181818  0.18181818  0.18181818  0.18181818  0.18181818  0.18181818\n",
      "  0.18181818  0.18181818  0.18181818  0.18181818  0.18181818  0.18181818\n",
      "  0.27272727  0.27272727  0.36363636  0.18181818  0.18181818  0.27272727\n",
      "  0.18181818  0.09090909  0.18181818  0.18181818  0.18181818  0.18181818\n",
      "  0.18181818  0.18181818  0.18181818  0.18181818  0.18181818  0.27272727\n",
      "  0.18181818  0.18181818  0.18181818  0.18181818  0.36363636  0.18181818\n",
      "  0.18181818  0.18181818  0.18181818  0.18181818  0.18181818  0.27272727\n",
      "  0.18181818  0.18181818  0.18181818  0.18181818  0.09090909  0.36363636\n",
      "  0.18181818  0.18181818  0.18181818  0.27272727  0.18181818  0.18181818\n",
      "  0.18181818  0.18181818  0.18181818  0.18181818  0.36363636  0.18181818\n",
      "  0.18181818  0.18181818  0.18181818  0.09090909  0.36363636  0.18181818\n",
      "  0.18181818  0.18181818  0.18181818  0.18181818  0.18181818  0.18181818\n",
      "  0.18181818  0.36363636]\n"
     ]
    }
   ],
   "source": [
    "from sklearn.neighbors import KNeighborsClassifier\n",
    "\n",
    "knn = KNeighborsClassifier(n_neighbors=11)\n",
    "\n",
    "knn.fit(X_train,y_train)\n",
    "\n",
    "\n",
    "KNeighborsClassifier(algorithm='auto', leaf_size=30, metric='euclidean',\n",
    "           metric_params=None, n_jobs=1, n_neighbors=11, p=2,\n",
    "           weights='uniform')\n",
    "           \n",
    "\n",
    "pred = knn.predict(test)\n",
    "pred2 = knn.predict_proba(test)\n",
    "pred2=pred2[:,1]\n",
    "print(pred2)\n"
   ]
  },
  {
   "cell_type": "code",
   "execution_count": 7,
   "metadata": {
    "collapsed": true
   },
   "outputs": [],
   "source": [
    "submission=pd.DataFrame({\"\":test['Unnamed: 0'],\"Made Donation in March 2007\":pred2})\n",
    "submission.to_csv(\"MajhaKnn211.csv\",index=False)"
   ]
  },
  {
   "cell_type": "code",
   "execution_count": null,
   "metadata": {
    "collapsed": true
   },
   "outputs": [],
   "source": []
  }
 ],
 "metadata": {
  "kernelspec": {
   "display_name": "Python 3",
   "language": "python",
   "name": "python3"
  },
  "language_info": {
   "codemirror_mode": {
    "name": "ipython",
    "version": 3
   },
   "file_extension": ".py",
   "mimetype": "text/x-python",
   "name": "python",
   "nbconvert_exporter": "python",
   "pygments_lexer": "ipython3",
   "version": "3.6.3"
  }
 },
 "nbformat": 4,
 "nbformat_minor": 2
}
